{
 "cells": [
  {
   "cell_type": "code",
   "execution_count": 33,
   "metadata": {
    "pycharm": {
     "name": "#%%\n"
    }
   },
   "outputs": [],
   "source": [
    " # detect and track faces\n",
    "# %load_ext autoreload\n",
    "%autoreload 2\n",
    "from IPython.core.interactiveshell import InteractiveShell\n",
    "InteractiveShell.ast_node_interactivity = \"all\""
   ]
  },
  {
   "cell_type": "code",
   "execution_count": 66,
   "metadata": {
    "pycharm": {
     "name": "#%%\n"
    }
   },
   "outputs": [],
   "source": [
    "import argparse\n",
    "import os\n",
    "import pickle\n",
    "import sys\n",
    "from pathlib import Path\n",
    "\n",
    "import numpy as np\n",
    "from PIL import Image\n",
    "from moviepy.editor import VideoFileClip\n",
    "from tqdm import tqdm\n",
    "\n",
    "from tqdm import tqdm_notebook"
   ]
  },
  {
   "cell_type": "code",
   "execution_count": 39,
   "metadata": {
    "pycharm": {
     "name": "#%%\n"
    }
   },
   "outputs": [],
   "source": [
    "# add project to python path\n",
    "sys.path.append('../../')\n",
    "from src.align.align_trans import get_reference_facial_points, warp_and_crop_face\n",
    "from src.align.detector import detect_faces\n",
    "from src.align.get_nets import PNet, RNet, ONet"
   ]
  },
  {
   "cell_type": "markdown",
   "metadata": {
    "pycharm": {
     "name": "#%% md\n"
    }
   },
   "source": [
    "set variables and Paths"
   ]
  },
  {
   "cell_type": "code",
   "execution_count": 56,
   "metadata": {
    "pycharm": {
     "name": "#%%\n"
    }
   },
   "outputs": [],
   "source": [
    "source_root=\"../data/fiw-mm/\"\n",
    "dest_root=\"../data/fiw-mm/interm/visual/video-frame-faces/\"\n",
    "crop_size=112\n",
    "fps = 25\n",
    "\n",
    "path_data = Path(source_root).resolve()\n",
    "path_images = path_data / 'FIDs-MM/visual/image'\n",
    "path_videos = path_data / 'FIDs-MM/visual/video'\n",
    "path_encodings = path_data / 'features/image/arcface'\n",
    "path_out = Path(dest_root).resolve()\n",
    "path_out.mkdir(exist_ok=True, parents=True)"
   ]
  },
  {
   "cell_type": "code",
   "execution_count": 65,
   "metadata": {},
   "outputs": [],
   "source": [
    "%%capture\n",
    "pnet = PNet()\n",
    "rnet = RNet()\n",
    "onet = ONet()"
   ]
  },
  {
   "cell_type": "code",
   "execution_count": null,
   "metadata": {},
   "outputs": [],
   "source": [
    "def unique_path(directory, name_pattern):\n",
    "    counter = -1\n",
    "    while True:\n",
    "        counter += 1\n",
    "        path = directory / name_pattern.format(counter)\n",
    "        if not path.exists():\n",
    "            return path"
   ]
  },
  {
   "cell_type": "markdown",
   "metadata": {
    "pycharm": {
     "name": "#%% md\n"
    }
   },
   "source": [
    "set / get parameters and get files for face detector and to process, respectively"
   ]
  },
  {
   "cell_type": "code",
   "execution_count": null,
   "metadata": {},
   "outputs": [],
   "source": []
  },
  {
   "cell_type": "code",
   "execution_count": null,
   "metadata": {
    "pycharm": {
     "name": "#%%\n"
    },
    "scrolled": true
   },
   "outputs": [
    {
     "data": {
      "application/vnd.jupyter.widget-view+json": {
       "model_id": "dbd865318a194ee2b4c865f633aee971",
       "version_major": 2,
       "version_minor": 0
      },
      "text/plain": [
       "HBox(children=(FloatProgress(value=1.0, bar_style='info', max=1.0), HTML(value='')))"
      ]
     },
     "metadata": {},
     "output_type": "display_data"
    },
    {
     "name": "stdout",
     "output_type": "stream",
     "text": [
      "skipping /Volumes/MyWorld/FIW-MM/data/FIDs-MM/visual/video/F0005/MID3/76dkmAvXHPE_0000001.mp4\n",
      "skipping /Volumes/MyWorld/FIW-MM/data/FIDs-MM/visual/video/F0005/MID3/76dkmAvXHPE_0000002.mp4\n",
      "skipping /Volumes/MyWorld/FIW-MM/data/FIDs-MM/visual/video/F0005/MID3/DOsdKD-VRrA_0000001.mp4\n",
      "skipping /Volumes/MyWorld/FIW-MM/data/FIDs-MM/visual/video/F0005/MID3/DOsdKD-VRrA_0000002.mp4\n",
      "skipping /Volumes/MyWorld/FIW-MM/data/FIDs-MM/visual/video/F0005/MID3/DOsdKD-VRrA_0000003.mp4\n",
      "skipping /Volumes/MyWorld/FIW-MM/data/FIDs-MM/visual/video/F0005/MID3/EQLAtB1Kse4_0000001.mp4\n",
      "skipping /Volumes/MyWorld/FIW-MM/data/FIDs-MM/visual/video/F0005/MID3/EQLAtB1Kse4_0000002.mp4\n",
      "skipping /Volumes/MyWorld/FIW-MM/data/FIDs-MM/visual/video/F0005/MID3/EQLAtB1Kse4_0000003.mp4\n",
      "skipping /Volumes/MyWorld/FIW-MM/data/FIDs-MM/visual/video/F0005/MID3/EQLAtB1Kse4_0000004.mp4\n",
      "skipping /Volumes/MyWorld/FIW-MM/data/FIDs-MM/visual/video/F0005/MID3/EQLAtB1Kse4_0000005.mp4\n",
      "skipping /Volumes/MyWorld/FIW-MM/data/FIDs-MM/visual/video/F0005/MID3/EQLAtB1Kse4_0000006.mp4\n",
      "skipping /Volumes/MyWorld/FIW-MM/data/FIDs-MM/visual/video/F0005/MID3/EQLAtB1Kse4_0000007.mp4\n",
      "skipping /Volumes/MyWorld/FIW-MM/data/FIDs-MM/visual/video/F0005/MID3/EQLAtB1Kse4_0000008.mp4\n",
      "skipping /Volumes/MyWorld/FIW-MM/data/FIDs-MM/visual/video/F0005/MID3/EQLAtB1Kse4_0000009.mp4\n",
      "skipping /Volumes/MyWorld/FIW-MM/data/FIDs-MM/visual/video/F0005/MID3/EQLAtB1Kse4_0000010.mp4\n",
      "skipping /Volumes/MyWorld/FIW-MM/data/FIDs-MM/visual/video/F0005/MID3/Fejq2JzedIQ_0000001.mp4\n",
      "skipping /Volumes/MyWorld/FIW-MM/data/FIDs-MM/visual/video/F0005/MID3/Fejq2JzedIQ_0000002.mp4\n",
      "skipping /Volumes/MyWorld/FIW-MM/data/FIDs-MM/visual/video/F0005/MID3/Fejq2JzedIQ_0000003.mp4\n",
      "skipping /Volumes/MyWorld/FIW-MM/data/FIDs-MM/visual/video/F0005/MID3/Fejq2JzedIQ_0000004.mp4\n",
      "skipping /Volumes/MyWorld/FIW-MM/data/FIDs-MM/visual/video/F0005/MID3/Fejq2JzedIQ_0000005.mp4\n",
      "skipping /Volumes/MyWorld/FIW-MM/data/FIDs-MM/visual/video/F0005/MID3/Fejq2JzedIQ_0000006.mp4\n",
      "skipping /Volumes/MyWorld/FIW-MM/data/FIDs-MM/visual/video/F0005/MID3/Fejq2JzedIQ_0000007.mp4\n",
      "skipping /Volumes/MyWorld/FIW-MM/data/FIDs-MM/visual/video/F0005/MID3/Fejq2JzedIQ_0000008.mp4\n",
      "skipping /Volumes/MyWorld/FIW-MM/data/FIDs-MM/visual/video/F0005/MID3/Fejq2JzedIQ_0000009.mp4\n",
      "skipping /Volumes/MyWorld/FIW-MM/data/FIDs-MM/visual/video/F0005/MID3/Fejq2JzedIQ_0000010.mp4\n",
      "skipping /Volumes/MyWorld/FIW-MM/data/FIDs-MM/visual/video/F0005/MID3/Fejq2JzedIQ_0000011.mp4\n",
      "skipping /Volumes/MyWorld/FIW-MM/data/FIDs-MM/visual/video/F0005/MID3/Fejq2JzedIQ_0000012.mp4\n",
      "skipping /Volumes/MyWorld/FIW-MM/data/FIDs-MM/visual/video/F0005/MID3/Fejq2JzedIQ_0000013.mp4\n",
      "skipping /Volumes/MyWorld/FIW-MM/data/FIDs-MM/visual/video/F0005/MID3/Fejq2JzedIQ_0000014.mp4\n",
      "skipping /Volumes/MyWorld/FIW-MM/data/FIDs-MM/visual/video/F0005/MID3/Fejq2JzedIQ_0000015.mp4\n",
      "skipping /Volumes/MyWorld/FIW-MM/data/FIDs-MM/visual/video/F0005/MID3/Fejq2JzedIQ_0000016.mp4\n",
      "skipping /Volumes/MyWorld/FIW-MM/data/FIDs-MM/visual/video/F0005/MID3/Gk3EqLx8dSA_0000001.mp4\n",
      "skipping /Volumes/MyWorld/FIW-MM/data/FIDs-MM/visual/video/F0005/MID3/Gk3EqLx8dSA_0000002.mp4\n",
      "skipping /Volumes/MyWorld/FIW-MM/data/FIDs-MM/visual/video/F0005/MID3/Gk3EqLx8dSA_0000003.mp4\n",
      "skipping /Volumes/MyWorld/FIW-MM/data/FIDs-MM/visual/video/F0005/MID3/Gk3EqLx8dSA_0000004.mp4\n",
      "Processing\tF0005/MID3/PQ9toiGNkwY_0000001.mp4\n",
      "Processing\tF0005/MID3/QhtGGhhnA5s_0000001.mp4\n",
      "Processing\tF0005/MID3/QhtGGhhnA5s_0000002.mp4\n",
      "Processing\tF0005/MID3/QhtGGhhnA5s_0000003.mp4\n",
      "Processing\tF0005/MID3/X-nxYwui47w_0000001.mp4\n",
      "Processing\tF0005/MID3/X-nxYwui47w_0000002.mp4\n",
      "Processing\tF0005/MID3/X-nxYwui47w_0000003.mp4\n",
      "Processing\tF0008/MID4/09H3uJc9fI8_0000001.mp4\n",
      "Processing\tF0008/MID4/98fSv4O50jk_0000001.mp4\n",
      "Processing\tF0008/MID4/98fSv4O50jk_0000002.mp4\n",
      "Processing\tF0008/MID4/98fSv4O50jk_0000003.mp4\n",
      "Processing\tF0008/MID4/98fSv4O50jk_0000004.mp4\n",
      "Processing\tF0008/MID4/98fSv4O50jk_0000005.mp4\n",
      "Processing\tF0008/MID4/98fSv4O50jk_0000006.mp4\n",
      "Processing\tF0008/MID4/98fSv4O50jk_0000007.mp4\n",
      "Processing\tF0008/MID4/98fSv4O50jk_0000008.mp4\n",
      "Processing\tF0008/MID4/98fSv4O50jk_0000009.mp4\n",
      "Processing\tF0008/MID4/98fSv4O50jk_0000010.mp4\n",
      "Processing\tF0008/MID4/98fSv4O50jk_0000011.mp4\n",
      "Processing\tF0008/MID4/98fSv4O50jk_0000012.mp4\n",
      "Processing\tF0008/MID4/98fSv4O50jk_0000013.mp4\n",
      "Processing\tF0008/MID4/98fSv4O50jk_0000014.mp4\n",
      "/Volumes/MyWorld/FIW-MM/data/interm/visual/video-frame-faces/F0008/MID4/98fSv4O50jk_0000014/frame-192.jpg is discarded due to non-detected landmarks!\n",
      "/Volumes/MyWorld/FIW-MM/data/interm/visual/video-frame-faces/F0008/MID4/98fSv4O50jk_0000014/frame-193.jpg is discarded due to non-detected landmarks!\n",
      "Processing\tF0008/MID4/_OU2o2tRfhY_0000001.mp4\n",
      "Processing\tF0008/MID4/_ympjLfyNY0_0000001.mp4\n",
      "Processing\tF0008/MID4/_ympjLfyNY0_0000002.mp4\n",
      "Processing\tF0008/MID4/dg2bq-qEmUY_0000001.mp4\n",
      "Processing\tF0008/MID4/dg2bq-qEmUY_0000002.mp4\n",
      "Processing\tF0008/MID4/dg2bq-qEmUY_0000003.mp4\n",
      "Processing\tF0008/MID4/E_EumKUfs68_0000001.mp4\n",
      "Processing\tF0008/MID4/E_EumKUfs68_0000002.mp4\n",
      "Processing\tF0008/MID4/E_EumKUfs68_0000003.mp4\n",
      "Processing\tF0008/MID4/E_EumKUfs68_0000004.mp4\n",
      "Processing\tF0008/MID4/eyMZ1Q2HIDA_0000001.mp4\n",
      "Processing\tF0008/MID4/eyMZ1Q2HIDA_0000002.mp4\n",
      "Processing\tF0008/MID4/eyMZ1Q2HIDA_0000003.mp4\n",
      "Processing\tF0008/MID4/HM9TwdQDWWE_0000001.mp4\n",
      "Processing\tF0008/MID4/HM9TwdQDWWE_0000002.mp4\n",
      "Processing\tF0008/MID4/mKi5mDuYRBo_0000001.mp4\n",
      "Processing\tF0008/MID4/TBxtzGODUDk_0000001.mp4\n",
      "Processing\tF0008/MID4/TBxtzGODUDk_0000002.mp4\n",
      "Processing\tF0008/MID4/ympjLfyNY0_0000001.mp4\n",
      "Processing\tF0008/MID4/ympjLfyNY0_0000002.mp4\n",
      "Processing\tF0017/MID1/1elTcNGC3q8_0000001.mp4\n",
      "Processing\tF0017/MID1/1elTcNGC3q8_0000002.mp4\n",
      "Processing\tF0017/MID1/1elTcNGC3q8_0000003.mp4\n",
      "Processing\tF0017/MID1/1elTcNGC3q8_0000004.mp4\n",
      "Processing\tF0017/MID1/1elTcNGC3q8_0000005.mp4\n",
      "Processing\tF0017/MID1/1elTcNGC3q8_0000006.mp4\n",
      "Processing\tF0017/MID1/1elTcNGC3q8_0000007.mp4\n",
      "Processing\tF0017/MID1/1elTcNGC3q8_0000008.mp4\n",
      "Processing\tF0017/MID1/1elTcNGC3q8_0000009.mp4\n",
      "Processing\tF0017/MID1/1elTcNGC3q8_0000010.mp4\n",
      "Processing\tF0017/MID1/1elTcNGC3q8_0000011.mp4\n",
      "Processing\tF0017/MID1/1elTcNGC3q8_0000012.mp4\n",
      "Processing\tF0017/MID1/1elTcNGC3q8_0000013.mp4\n",
      "Processing\tF0017/MID1/1elTcNGC3q8_0000014.mp4\n",
      "Processing\tF0017/MID1/1elTcNGC3q8_0000015.mp4\n",
      "Processing\tF0017/MID1/1elTcNGC3q8_0000016.mp4\n",
      "Processing\tF0017/MID1/1elTcNGC3q8_0000017.mp4\n",
      "Processing\tF0017/MID1/1elTcNGC3q8_0000018.mp4\n",
      "Processing\tF0017/MID1/1elTcNGC3q8_0000019.mp4\n",
      "Processing\tF0017/MID1/1elTcNGC3q8_0000020.mp4\n",
      "Processing\tF0017/MID1/1elTcNGC3q8_0000021.mp4\n",
      "Processing\tF0017/MID1/1elTcNGC3q8_0000022.mp4\n",
      "Processing\tF0017/MID1/1elTcNGC3q8_0000023.mp4\n",
      "Processing\tF0017/MID1/1elTcNGC3q8_0000024.mp4\n",
      "Processing\tF0017/MID1/1elTcNGC3q8_0000025.mp4\n",
      "Processing\tF0017/MID1/1elTcNGC3q8_0000026.mp4\n",
      "Processing\tF0017/MID1/1elTcNGC3q8_0000027.mp4\n",
      "Processing\tF0017/MID1/1elTcNGC3q8_0000028.mp4\n",
      "Processing\tF0017/MID1/1elTcNGC3q8_0000029.mp4\n",
      "Processing\tF0017/MID1/1elTcNGC3q8_0000030.mp4\n",
      "Processing\tF0017/MID1/1elTcNGC3q8_0000031.mp4\n",
      "Processing\tF0017/MID1/1elTcNGC3q8_0000032.mp4\n",
      "Processing\tF0017/MID1/1elTcNGC3q8_0000033.mp4\n",
      "Processing\tF0017/MID1/1elTcNGC3q8_0000034.mp4\n",
      "Processing\tF0017/MID1/1elTcNGC3q8_0000035.mp4\n",
      "Processing\tF0017/MID1/1elTcNGC3q8_0000036.mp4\n",
      "Processing\tF0017/MID1/1elTcNGC3q8_0000037.mp4\n",
      "Processing\tF0017/MID1/1elTcNGC3q8_0000038.mp4\n",
      "Processing\tF0017/MID1/1elTcNGC3q8_0000039.mp4\n",
      "Processing\tF0017/MID1/1elTcNGC3q8_0000040.mp4\n",
      "Processing\tF0017/MID1/1elTcNGC3q8_0000041.mp4\n",
      "Processing\tF0017/MID1/1elTcNGC3q8_0000042.mp4\n",
      "Processing\tF0017/MID1/1elTcNGC3q8_0000043.mp4\n",
      "Processing\tF0017/MID1/1elTcNGC3q8_0000044.mp4\n",
      "Processing\tF0017/MID1/1elTcNGC3q8_0000045.mp4\n",
      "Processing\tF0017/MID1/1elTcNGC3q8_0000046.mp4\n",
      "Processing\tF0017/MID1/37HXBdOMKOk_0000001.mp4\n",
      "Processing\tF0017/MID1/37HXBdOMKOk_0000002.mp4\n",
      "Processing\tF0017/MID1/37HXBdOMKOk_0000003.mp4\n",
      "Processing\tF0017/MID1/37HXBdOMKOk_0000004.mp4\n",
      "Processing\tF0017/MID1/37HXBdOMKOk_0000005.mp4\n",
      "Processing\tF0017/MID1/37HXBdOMKOk_0000006.mp4\n",
      "Processing\tF0017/MID1/37HXBdOMKOk_0000007.mp4\n",
      "Processing\tF0017/MID1/37HXBdOMKOk_0000008.mp4\n",
      "Processing\tF0017/MID1/37HXBdOMKOk_0000009.mp4\n",
      "Processing\tF0017/MID1/37HXBdOMKOk_0000010.mp4\n",
      "Processing\tF0017/MID1/37HXBdOMKOk_0000011.mp4\n",
      "Processing\tF0017/MID1/37HXBdOMKOk_0000012.mp4\n",
      "Processing\tF0017/MID1/37HXBdOMKOk_0000013.mp4\n",
      "Processing\tF0017/MID1/37HXBdOMKOk_0000014.mp4\n",
      "Processing\tF0017/MID1/37HXBdOMKOk_0000015.mp4\n",
      "Processing\tF0017/MID1/37HXBdOMKOk_0000016.mp4\n",
      "Processing\tF0017/MID1/37HXBdOMKOk_0000017.mp4\n",
      "Processing\tF0017/MID1/37HXBdOMKOk_0000018.mp4\n",
      "Processing\tF0017/MID1/37HXBdOMKOk_0000019.mp4\n",
      "Processing\tF0017/MID1/37HXBdOMKOk_0000020.mp4\n",
      "Processing\tF0017/MID1/37HXBdOMKOk_0000021.mp4\n",
      "Processing\tF0017/MID1/37HXBdOMKOk_0000022.mp4\n",
      "Processing\tF0017/MID1/37HXBdOMKOk_0000023.mp4\n",
      "Processing\tF0017/MID1/37HXBdOMKOk_0000024.mp4\n"
     ]
    }
   ],
   "source": [
    "scale = crop_size / 112.\n",
    "reference = get_reference_facial_points(default_square=True) * scale\n",
    "\n",
    "f_videos = path_videos.rglob('*.mp4')\n",
    "\n",
    "# for f_video in tqdm(f_videos):\n",
    "for f_video in tqdm_notebook(f_videos):\n",
    "    ref_base = str(f_video).replace(f\"{str(path_videos)}/\", \"\")\n",
    "    path_obin = (path_out / ref_base).with_suffix('')\n",
    "    try:\n",
    "        path_obin.mkdir(parents=True)\n",
    "    except:\n",
    "        print('skipping', f_video)\n",
    "        continue\n",
    "    print(\"Processing\\t{}\".format(ref_base))\n",
    "    clip = VideoFileClip(str(f_video))\n",
    "    tracks = []\n",
    "    for k, frame in enumerate(clip.iter_frames(fps=fps)):\n",
    "        bbs, landmarks = detect_faces(Image.fromarray(frame), pnet=pnet, rnet=rnet, onet=onet)\n",
    "        ndetections = len(landmarks)\n",
    "        path_image_out = path_obin / 'frame-{:03d}.jpg'.format(k)\n",
    "        if ndetections:  # If the landmarks cannot be detected, the img will be discarded\n",
    "            for i in range(ndetections):\n",
    "                facial5points = [[landmarks[i][j], landmarks[i][j + 5]] for j in range(5)]\n",
    "                warped_face = warp_and_crop_face(frame, facial5points,reference, crop_size=(crop_size, crop_size))\n",
    "\n",
    "                path_image_out = path_obin / str(Path(path_image_out).name).replace('.jpg', '-{:02d}.jpg'.format(i))                                  \n",
    "                img_warped = Image.fromarray(warped_face)\n",
    "                img_warped.save(str(path_image_out))\n",
    "                                                                  \n",
    "                path_lmarks_out = str(path_image_out).replace('.jpg', '-landmarks.csv')\n",
    "                path_bb_out = str(path_image_out).replace('.jpg', '-bb.csv')\n",
    "\n",
    "                np.savetxt(str(path_lmarks_out), landmarks[i], delimiter=',')\n",
    "                np.savetxt(path_bb_out, bbs[i], delimiter=',')\n",
    "        else:\n",
    "            print(\"{} is discarded due to non-detected landmarks!\".format(path_image_out))\n"
   ]
  },
  {
   "cell_type": "code",
   "execution_count": 94,
   "metadata": {},
   "outputs": [],
   "source": [
    "!open /Volumes/MyWorld/FIW-MM/data/FIDs-MM/visual/video/F0005/MID3/gudJriJgLQ4_0000001.mp4"
   ]
  },
  {
   "cell_type": "code",
   "execution_count": 58,
   "metadata": {},
   "outputs": [
    {
     "data": {
      "text/plain": [
       "PosixPath('/Volumes/MyWorld/FIW-MM/data/interm/visual/video-frame-faces/FIDs-MM/visual/video/F0005/MID3/76dkmAvXHPE_0000001')"
      ]
     },
     "execution_count": 58,
     "metadata": {},
     "output_type": "execute_result"
    },
    {
     "name": "stdout",
     "output_type": "stream",
     "text": [
      "/Volumes/MyWorld/FIW-MM/data/interm/visual/video-frame-faces/FIDs-MM/visual/video/F0005/MID3/76dkmAvXHPE_0000001\n"
     ]
    }
   ],
   "source": [
    "ref_base = str(f_video).replace(f\"{str(path_data)}/\", \"\")\n",
    "path_obin = (path_out / ref_base).with_suffix('')\n",
    "path_obin\n",
    "print(path_obin)"
   ]
  },
  {
   "cell_type": "code",
   "execution_count": 63,
   "metadata": {},
   "outputs": [
    {
     "name": "stdout",
     "output_type": "stream",
     "text": [
      "[ 31.645689  57.47556   55.507782  40.95931   60.545403 155.9029\n",
      " 152.5538   166.5087   184.61024  181.15593 ]\n"
     ]
    }
   ],
   "source": [
    "print((landmarks[0]))"
   ]
  },
  {
   "cell_type": "code",
   "execution_count": 62,
   "metadata": {},
   "outputs": [],
   "source": [
    "?np.savetxt"
   ]
  },
  {
   "cell_type": "code",
   "execution_count": null,
   "metadata": {
    "pycharm": {
     "name": "#%%\n"
    }
   },
   "outputs": [],
   "source": [
    "\n",
    "meta[ref] = li_meta\n",
    "with open(source_root + 'cropped-meta.pkl', 'wb') as f:\n",
    "    pickle.dump(meta, f)"
   ]
  }
 ],
 "metadata": {
  "kernelspec": {
   "display_name": "Python 3",
   "language": "python",
   "name": "python3"
  },
  "language_info": {
   "codemirror_mode": {
    "name": "ipython",
    "version": 3
   },
   "file_extension": ".py",
   "mimetype": "text/x-python",
   "name": "python",
   "nbconvert_exporter": "python",
   "pygments_lexer": "ipython3",
   "version": "3.6.9"
  }
 },
 "nbformat": 4,
 "nbformat_minor": 4
}
