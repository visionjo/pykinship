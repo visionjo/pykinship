{
 "cells": [
  {
   "cell_type": "code",
   "execution_count": 11,
   "metadata": {},
   "outputs": [],
   "source": [
    "from pathlib import Path\n",
    "import pandas as pd"
   ]
  },
  {
   "cell_type": "code",
   "execution_count": 8,
   "metadata": {},
   "outputs": [],
   "source": [
    "path_root = Path('/Volumes/MyWorld/FIW-MM/data')\n",
    "path_data = path_root.joinpath('FIDs-MM')\n",
    "path_lists = path_root.joinpath('lists')"
   ]
  },
  {
   "cell_type": "code",
   "execution_count": 9,
   "metadata": {},
   "outputs": [
    {
     "data": {
      "text/plain": [
       "126058"
      ]
     },
     "execution_count": 9,
     "metadata": {},
     "output_type": "execute_result"
    }
   ],
   "source": [
    "path_faces = list(path_data.glob('F????/MID*/faces/*.jpg'))  \n",
    "len(path_faces)"
   ]
  },
  {
   "cell_type": "code",
   "execution_count": 15,
   "metadata": {},
   "outputs": [],
   "source": [
    "df_db = pd.DataFrame(path_faces, columns=['paths'])\n",
    "df_db['paths'] = df_db['paths'].astype(str)"
   ]
  },
  {
   "cell_type": "code",
   "execution_count": 16,
   "metadata": {},
   "outputs": [
    {
     "data": {
      "text/html": [
       "<div>\n",
       "<style scoped>\n",
       "    .dataframe tbody tr th:only-of-type {\n",
       "        vertical-align: middle;\n",
       "    }\n",
       "\n",
       "    .dataframe tbody tr th {\n",
       "        vertical-align: top;\n",
       "    }\n",
       "\n",
       "    .dataframe thead th {\n",
       "        text-align: right;\n",
       "    }\n",
       "</style>\n",
       "<table border=\"1\" class=\"dataframe\">\n",
       "  <thead>\n",
       "    <tr style=\"text-align: right;\">\n",
       "      <th></th>\n",
       "      <th>paths</th>\n",
       "    </tr>\n",
       "  </thead>\n",
       "  <tbody>\n",
       "    <tr>\n",
       "      <th>0</th>\n",
       "      <td>/Volumes/MyWorld/FIW-MM/data/FIDs-MM/F0001/MID...</td>\n",
       "    </tr>\n",
       "    <tr>\n",
       "      <th>1</th>\n",
       "      <td>/Volumes/MyWorld/FIW-MM/data/FIDs-MM/F0001/MID...</td>\n",
       "    </tr>\n",
       "    <tr>\n",
       "      <th>2</th>\n",
       "      <td>/Volumes/MyWorld/FIW-MM/data/FIDs-MM/F0001/MID...</td>\n",
       "    </tr>\n",
       "    <tr>\n",
       "      <th>3</th>\n",
       "      <td>/Volumes/MyWorld/FIW-MM/data/FIDs-MM/F0001/MID...</td>\n",
       "    </tr>\n",
       "    <tr>\n",
       "      <th>4</th>\n",
       "      <td>/Volumes/MyWorld/FIW-MM/data/FIDs-MM/F0001/MID...</td>\n",
       "    </tr>\n",
       "  </tbody>\n",
       "</table>\n",
       "</div>"
      ],
      "text/plain": [
       "                                               paths\n",
       "0  /Volumes/MyWorld/FIW-MM/data/FIDs-MM/F0001/MID...\n",
       "1  /Volumes/MyWorld/FIW-MM/data/FIDs-MM/F0001/MID...\n",
       "2  /Volumes/MyWorld/FIW-MM/data/FIDs-MM/F0001/MID...\n",
       "3  /Volumes/MyWorld/FIW-MM/data/FIDs-MM/F0001/MID...\n",
       "4  /Volumes/MyWorld/FIW-MM/data/FIDs-MM/F0001/MID..."
      ]
     },
     "execution_count": 16,
     "metadata": {},
     "output_type": "execute_result"
    }
   ],
   "source": [
    "df_db.head()"
   ]
  },
  {
   "cell_type": "code",
   "execution_count": 20,
   "metadata": {},
   "outputs": [
    {
     "data": {
      "text/html": [
       "<div>\n",
       "<style scoped>\n",
       "    .dataframe tbody tr th:only-of-type {\n",
       "        vertical-align: middle;\n",
       "    }\n",
       "\n",
       "    .dataframe tbody tr th {\n",
       "        vertical-align: top;\n",
       "    }\n",
       "\n",
       "    .dataframe thead th {\n",
       "        text-align: right;\n",
       "    }\n",
       "</style>\n",
       "<table border=\"1\" class=\"dataframe\">\n",
       "  <thead>\n",
       "    <tr style=\"text-align: right;\">\n",
       "      <th></th>\n",
       "      <th>paths</th>\n",
       "      <th>fid</th>\n",
       "      <th>mid</th>\n",
       "      <th>ref</th>\n",
       "    </tr>\n",
       "  </thead>\n",
       "  <tbody>\n",
       "    <tr>\n",
       "      <th>0</th>\n",
       "      <td>/Volumes/MyWorld/FIW-MM/data/FIDs-MM/F0001/MID...</td>\n",
       "      <td>F0001</td>\n",
       "      <td>MID1</td>\n",
       "      <td>F0001.MID1</td>\n",
       "    </tr>\n",
       "    <tr>\n",
       "      <th>1</th>\n",
       "      <td>/Volumes/MyWorld/FIW-MM/data/FIDs-MM/F0001/MID...</td>\n",
       "      <td>F0001</td>\n",
       "      <td>MID1</td>\n",
       "      <td>F0001.MID1</td>\n",
       "    </tr>\n",
       "    <tr>\n",
       "      <th>2</th>\n",
       "      <td>/Volumes/MyWorld/FIW-MM/data/FIDs-MM/F0001/MID...</td>\n",
       "      <td>F0001</td>\n",
       "      <td>MID1</td>\n",
       "      <td>F0001.MID1</td>\n",
       "    </tr>\n",
       "    <tr>\n",
       "      <th>3</th>\n",
       "      <td>/Volumes/MyWorld/FIW-MM/data/FIDs-MM/F0001/MID...</td>\n",
       "      <td>F0001</td>\n",
       "      <td>MID1</td>\n",
       "      <td>F0001.MID1</td>\n",
       "    </tr>\n",
       "    <tr>\n",
       "      <th>4</th>\n",
       "      <td>/Volumes/MyWorld/FIW-MM/data/FIDs-MM/F0001/MID...</td>\n",
       "      <td>F0001</td>\n",
       "      <td>MID1</td>\n",
       "      <td>F0001.MID1</td>\n",
       "    </tr>\n",
       "  </tbody>\n",
       "</table>\n",
       "</div>"
      ],
      "text/plain": [
       "                                               paths    fid   mid         ref\n",
       "0  /Volumes/MyWorld/FIW-MM/data/FIDs-MM/F0001/MID...  F0001  MID1  F0001.MID1\n",
       "1  /Volumes/MyWorld/FIW-MM/data/FIDs-MM/F0001/MID...  F0001  MID1  F0001.MID1\n",
       "2  /Volumes/MyWorld/FIW-MM/data/FIDs-MM/F0001/MID...  F0001  MID1  F0001.MID1\n",
       "3  /Volumes/MyWorld/FIW-MM/data/FIDs-MM/F0001/MID...  F0001  MID1  F0001.MID1\n",
       "4  /Volumes/MyWorld/FIW-MM/data/FIDs-MM/F0001/MID...  F0001  MID1  F0001.MID1"
      ]
     },
     "execution_count": 20,
     "metadata": {},
     "output_type": "execute_result"
    }
   ],
   "source": [
    "df_db['fid'] = df_db.paths.apply(lambda x: x.replace(f\"{path_data}/\",\"\").split('/')[0])\n",
    "df_db['mid'] = df_db.paths.apply(lambda x: x.replace(f\"{path_data}/\",\"\").split('/')[1])\n",
    "df_db['ref'] = df_db['fid'] + \".\" + df_db['mid']\n",
    "\n",
    "df_db.head()"
   ]
  },
  {
   "cell_type": "code",
   "execution_count": 24,
   "metadata": {},
   "outputs": [],
   "source": [
    "df_db.describe().to_clipboard()"
   ]
  },
  {
   "cell_type": "code",
   "execution_count": 23,
   "metadata": {},
   "outputs": [
    {
     "data": {
      "text/html": [
       "<div>\n",
       "<style scoped>\n",
       "    .dataframe tbody tr th:only-of-type {\n",
       "        vertical-align: middle;\n",
       "    }\n",
       "\n",
       "    .dataframe tbody tr th {\n",
       "        vertical-align: top;\n",
       "    }\n",
       "\n",
       "    .dataframe thead th {\n",
       "        text-align: right;\n",
       "    }\n",
       "</style>\n",
       "<table border=\"1\" class=\"dataframe\">\n",
       "  <thead>\n",
       "    <tr style=\"text-align: right;\">\n",
       "      <th></th>\n",
       "      <th>paths</th>\n",
       "      <th>fid</th>\n",
       "      <th>mid</th>\n",
       "      <th>ref</th>\n",
       "    </tr>\n",
       "  </thead>\n",
       "  <tbody>\n",
       "    <tr>\n",
       "      <th>126053</th>\n",
       "      <td>/Volumes/MyWorld/FIW-MM/data/FIDs-MM/F1018/MID...</td>\n",
       "      <td>F1018</td>\n",
       "      <td>MID8</td>\n",
       "      <td>F1018.MID8</td>\n",
       "    </tr>\n",
       "    <tr>\n",
       "      <th>126054</th>\n",
       "      <td>/Volumes/MyWorld/FIW-MM/data/FIDs-MM/F1018/MID...</td>\n",
       "      <td>F1018</td>\n",
       "      <td>MID8</td>\n",
       "      <td>F1018.MID8</td>\n",
       "    </tr>\n",
       "    <tr>\n",
       "      <th>126055</th>\n",
       "      <td>/Volumes/MyWorld/FIW-MM/data/FIDs-MM/F1018/MID...</td>\n",
       "      <td>F1018</td>\n",
       "      <td>MID8</td>\n",
       "      <td>F1018.MID8</td>\n",
       "    </tr>\n",
       "    <tr>\n",
       "      <th>126056</th>\n",
       "      <td>/Volumes/MyWorld/FIW-MM/data/FIDs-MM/F1018/MID...</td>\n",
       "      <td>F1018</td>\n",
       "      <td>MID8</td>\n",
       "      <td>F1018.MID8</td>\n",
       "    </tr>\n",
       "    <tr>\n",
       "      <th>126057</th>\n",
       "      <td>/Volumes/MyWorld/FIW-MM/data/FIDs-MM/F1018/MID...</td>\n",
       "      <td>F1018</td>\n",
       "      <td>MID8</td>\n",
       "      <td>F1018.MID8</td>\n",
       "    </tr>\n",
       "  </tbody>\n",
       "</table>\n",
       "</div>"
      ],
      "text/plain": [
       "                                                    paths    fid   mid  \\\n",
       "126053  /Volumes/MyWorld/FIW-MM/data/FIDs-MM/F1018/MID...  F1018  MID8   \n",
       "126054  /Volumes/MyWorld/FIW-MM/data/FIDs-MM/F1018/MID...  F1018  MID8   \n",
       "126055  /Volumes/MyWorld/FIW-MM/data/FIDs-MM/F1018/MID...  F1018  MID8   \n",
       "126056  /Volumes/MyWorld/FIW-MM/data/FIDs-MM/F1018/MID...  F1018  MID8   \n",
       "126057  /Volumes/MyWorld/FIW-MM/data/FIDs-MM/F1018/MID...  F1018  MID8   \n",
       "\n",
       "               ref  \n",
       "126053  F1018.MID8  \n",
       "126054  F1018.MID8  \n",
       "126055  F1018.MID8  \n",
       "126056  F1018.MID8  \n",
       "126057  F1018.MID8  "
      ]
     },
     "execution_count": 23,
     "metadata": {},
     "output_type": "execute_result"
    }
   ],
   "source": []
  },
  {
   "cell_type": "code",
   "execution_count": null,
   "metadata": {},
   "outputs": [],
   "source": []
  }
 ],
 "metadata": {
  "kernelspec": {
   "display_name": "Python 3",
   "language": "python",
   "name": "python3"
  },
  "language_info": {
   "codemirror_mode": {
    "name": "ipython",
    "version": 3
   },
   "file_extension": ".py",
   "mimetype": "text/x-python",
   "name": "python",
   "nbconvert_exporter": "python",
   "pygments_lexer": "ipython3",
   "version": "3.6.9"
  }
 },
 "nbformat": 4,
 "nbformat_minor": 4
}
