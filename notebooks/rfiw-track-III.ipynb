{
 "cells": [
  {
   "cell_type": "markdown",
   "metadata": {},
   "source": [
    "# Demo for RFIW-2020 (Task III): Search & Retrieval (missing children)\n",
    "## Overview\n",
    "This basic demo benchmarks track III-- going from face encodings (assumed extracted) to ranked lists formatted for submission (i.e., [https://competitions.codalab.org/competitions/22152](codalab)).\n",
    "\n",
    "This demo uses [pandas](https://pandas.pydata.org) for handling data lists.\n",
    "\n",
    "More about the challenge this benchmark was inspired by see challenge webpage for Recognizing Families In \n",
    "the Wild ([RFIW](https://web.northeastern.edu/smilelab/rfiw2020/)).\n",
    "\n",
    "We will evaluate a set of probes (i.e., search subjects) with a gallery (i.e., all other search subjects). We aim to match all instances in gallery to a given probe, rank by score, and, ideally, rank family members of the respective probe as the top K, where K is the number of true relatives of the probe in the gallery. Note that K varies from probe-to-probe. Thus, the specifications of the challenge require that all gallery subjects be in all ranked lists-- say there are N subjects that make up the gallery, K_1 will be relative of p_1, K_2-->p_2, ..., p_M->K_Mm where M is the number of probes and, hence, the total number of families.\n",
    "\n",
    "The work flow is as follows:\n",
    "- Load all features into dictionary.\n",
    "- Generate M ranked lists, i.e., one per probe.\n",
    "- For each of the M lists:\n",
    "  - Calculate the AP for the probe w.r.t. its ranked list.\n",
    "  - Once M AP scores were collected, take the mean such to yield the final score reported (i.e., mAP).\n",
    "  - Generate CMC curves.\n",
    "  - Visualize edge cases: those with hard negatives, positives or exceptionally easy family samples.\n"
   ]
  },
  {
   "cell_type": "code",
   "execution_count": 3,
   "metadata": {},
   "outputs": [
    {
     "name": "stdout",
     "output_type": "stream",
     "text": [
      "Collecting tqdm.auto\n",
      "\u001b[31m  ERROR: Could not find a version that satisfies the requirement tqdm.auto (from versions: none)\u001b[0m\n",
      "\u001b[31mERROR: No matching distribution found for tqdm.auto\u001b[0m\n"
     ]
    }
   ],
   "source": [
    "!pip install tqdm.auto"
   ]
  },
  {
   "cell_type": "code",
   "execution_count": 4,
   "metadata": {},
   "outputs": [],
   "source": [
    "import pickle\n",
    "from pathlib import Path\n",
    "from typing import Iterable\n",
    "\n",
    "import numpy as np\n",
    "import pandas as pd\n",
    "from scipy.spatial import distance\n",
    "from sklearn.metrics import accuracy_score\n",
    "from tqdm.auto import tqdm"
   ]
  },
  {
   "cell_type": "code",
   "execution_count": null,
   "metadata": {},
   "outputs": [],
   "source": [
    "path_features = Path('../../data/fiwdb/features').resolve()\n",
    "path_probe_list = Path('/media/yuyin/10THD1/Kinship/fiw-mm/data/lists/test/probes.json').resolve()\n",
    "path_gallery_set = Path('/media/yuyin/10THD1/Kinship/fiw-mm/data/lists/test/gallery.json').resolve()\n",
    "batchsize=256\n",
    "save_name='Rank-k_mAP' "
   ]
  },
  {
   "cell_type": "code",
   "execution_count": 6,
   "metadata": {},
   "outputs": [
    {
     "ename": "NameError",
     "evalue": "name 'Dataset' is not defined",
     "output_type": "error",
     "traceback": [
      "\u001b[0;31m---------------------------------------------------------------------------\u001b[0m",
      "\u001b[0;31mNameError\u001b[0m                                 Traceback (most recent call last)",
      "\u001b[0;32m<ipython-input-6-92b678e057d7>\u001b[0m in \u001b[0;36m<module>\u001b[0;34m\u001b[0m\n\u001b[0;32m----> 1\u001b[0;31m \u001b[0;32mclass\u001b[0m \u001b[0mRfiw2020TestSet\u001b[0m\u001b[0;34m(\u001b[0m\u001b[0mDataset\u001b[0m\u001b[0;34m)\u001b[0m\u001b[0;34m:\u001b[0m\u001b[0;34m\u001b[0m\u001b[0;34m\u001b[0m\u001b[0m\n\u001b[0m\u001b[1;32m      2\u001b[0m     \u001b[0;31m######################################################################\u001b[0m\u001b[0;34m\u001b[0m\u001b[0;34m\u001b[0m\u001b[0;34m\u001b[0m\u001b[0m\n\u001b[1;32m      3\u001b[0m     \u001b[0;31m# Data\u001b[0m\u001b[0;34m\u001b[0m\u001b[0;34m\u001b[0m\u001b[0;34m\u001b[0m\u001b[0m\n\u001b[1;32m      4\u001b[0m     \u001b[0;31m# ---------\u001b[0m\u001b[0;34m\u001b[0m\u001b[0;34m\u001b[0m\u001b[0;34m\u001b[0m\u001b[0m\n\u001b[1;32m      5\u001b[0m     \u001b[0;32mdef\u001b[0m \u001b[0m__init__\u001b[0m\u001b[0;34m(\u001b[0m\u001b[0mself\u001b[0m\u001b[0;34m,\u001b[0m \u001b[0mx\u001b[0m\u001b[0;34m)\u001b[0m\u001b[0;34m:\u001b[0m\u001b[0;34m\u001b[0m\u001b[0;34m\u001b[0m\u001b[0m\n",
      "\u001b[0;31mNameError\u001b[0m: name 'Dataset' is not defined"
     ]
    }
   ],
   "source": [
    "class Rfiw2020TestSet(Dataset):\n",
    "    ######################################################################\n",
    "    # Data\n",
    "    # ---------\n",
    "    def __init__(self, x):\n",
    "        if x == 'gallery':\n",
    "            with open(opt.test_list_g) as file:\n",
    "                self.imgs = json.load(file)\n",
    "        else:\n",
    "            self.imgs = []\n",
    "            with open(opt.test_list_p) as file:\n",
    "                probes = json.load(file)\n",
    "                for _, family_member_ind in probes.items():\n",
    "                    self.imgs.append(family_member_ind)\n",
    "\n",
    "    def __len__(self):\n",
    "        return len(self.imgs)\n",
    "\n",
    "\n",
    "\n",
    "def get_gallery_feature_and_id(img_path):\n",
    "    ######################################################################\n",
    "    # Load feature\n",
    "    # ---------\n",
    "    feat_path = \"/media/yuyin/10THD1/Kinship/fiw-mm/data/lists/test/gallery_features.npy\"        \n",
    "    feat_matrix = np.loadtxt(feat_path)\n",
    "\n",
    "    assert feat_matrix.shape[0] == len(img_path)\n",
    "    labels = np.zeros((feat_matrix.shape[0], 1))  # size (21951, 1)\n",
    "    for i, path in enumerate(img_path):\n",
    "        labels[i] = int(path.split('/')[0].split('F')[1])\n",
    "\n",
    "    return feat_matrix, labels\n",
    "\n",
    "\n",
    "def get_probe_feature_and_id(img_path):\n",
    "    ######################################################################\n",
    "    # size of probe img_path: 190\n",
    "    # ---------\n",
    "    labels = []\n",
    "    features = []\n",
    "    for path in img_path:\n",
    "        label = int(path.split('/')[0].split('F')[1])\n",
    "        feat_path_per_probe = os.path.join(opt.test_feature_dir, path, \"encodings.pkl\")\n",
    "        with open(feat_path_per_probe, 'rb') as f:\n",
    "            feat = pickle.load(f)\n",
    "            for _, feats_per_probe in feat.items() :\n",
    "                features.append(feats_per_probe)\n",
    "                labels.append(label)\n",
    "\n",
    "    return np.asarray(features), np.asarray(labels).reshape(-1,1)"
   ]
  },
  {
   "cell_type": "code",
   "execution_count": 7,
   "metadata": {},
   "outputs": [
    {
     "ename": "NameError",
     "evalue": "name 'Rfiw2020TestSet' is not defined",
     "output_type": "error",
     "traceback": [
      "\u001b[0;31m---------------------------------------------------------------------------\u001b[0m",
      "\u001b[0;31mNameError\u001b[0m                                 Traceback (most recent call last)",
      "\u001b[0;32m<ipython-input-7-c2e88150f251>\u001b[0m in \u001b[0;36m<module>\u001b[0;34m\u001b[0m\n\u001b[1;32m      3\u001b[0m \u001b[0;31m# ---------\u001b[0m\u001b[0;34m\u001b[0m\u001b[0;34m\u001b[0m\u001b[0;34m\u001b[0m\u001b[0m\n\u001b[1;32m      4\u001b[0m \u001b[0;31m# Load data\u001b[0m\u001b[0;34m\u001b[0m\u001b[0;34m\u001b[0m\u001b[0;34m\u001b[0m\u001b[0m\n\u001b[0;32m----> 5\u001b[0;31m \u001b[0mimage_datasets\u001b[0m \u001b[0;34m=\u001b[0m \u001b[0;34m{\u001b[0m\u001b[0mx\u001b[0m\u001b[0;34m:\u001b[0m \u001b[0mRfiw2020TestSet\u001b[0m\u001b[0;34m(\u001b[0m\u001b[0mx\u001b[0m\u001b[0;34m)\u001b[0m \u001b[0;32mfor\u001b[0m \u001b[0mx\u001b[0m \u001b[0;32min\u001b[0m \u001b[0;34m[\u001b[0m\u001b[0;34m'gallery'\u001b[0m\u001b[0;34m,\u001b[0m \u001b[0;34m'query'\u001b[0m\u001b[0;34m]\u001b[0m\u001b[0;34m}\u001b[0m\u001b[0;34m\u001b[0m\u001b[0;34m\u001b[0m\u001b[0m\n\u001b[0m\u001b[1;32m      6\u001b[0m \u001b[0;34m\u001b[0m\u001b[0m\n\u001b[1;32m      7\u001b[0m \u001b[0mprint\u001b[0m\u001b[0;34m(\u001b[0m\u001b[0;34m'-------test-----------'\u001b[0m\u001b[0;34m)\u001b[0m\u001b[0;34m\u001b[0m\u001b[0;34m\u001b[0m\u001b[0m\n",
      "\u001b[0;32m<ipython-input-7-c2e88150f251>\u001b[0m in \u001b[0;36m<dictcomp>\u001b[0;34m(.0)\u001b[0m\n\u001b[1;32m      3\u001b[0m \u001b[0;31m# ---------\u001b[0m\u001b[0;34m\u001b[0m\u001b[0;34m\u001b[0m\u001b[0;34m\u001b[0m\u001b[0m\n\u001b[1;32m      4\u001b[0m \u001b[0;31m# Load data\u001b[0m\u001b[0;34m\u001b[0m\u001b[0;34m\u001b[0m\u001b[0;34m\u001b[0m\u001b[0m\n\u001b[0;32m----> 5\u001b[0;31m \u001b[0mimage_datasets\u001b[0m \u001b[0;34m=\u001b[0m \u001b[0;34m{\u001b[0m\u001b[0mx\u001b[0m\u001b[0;34m:\u001b[0m \u001b[0mRfiw2020TestSet\u001b[0m\u001b[0;34m(\u001b[0m\u001b[0mx\u001b[0m\u001b[0;34m)\u001b[0m \u001b[0;32mfor\u001b[0m \u001b[0mx\u001b[0m \u001b[0;32min\u001b[0m \u001b[0;34m[\u001b[0m\u001b[0;34m'gallery'\u001b[0m\u001b[0;34m,\u001b[0m \u001b[0;34m'query'\u001b[0m\u001b[0;34m]\u001b[0m\u001b[0;34m}\u001b[0m\u001b[0;34m\u001b[0m\u001b[0;34m\u001b[0m\u001b[0m\n\u001b[0m\u001b[1;32m      6\u001b[0m \u001b[0;34m\u001b[0m\u001b[0m\n\u001b[1;32m      7\u001b[0m \u001b[0mprint\u001b[0m\u001b[0;34m(\u001b[0m\u001b[0;34m'-------test-----------'\u001b[0m\u001b[0;34m)\u001b[0m\u001b[0;34m\u001b[0m\u001b[0;34m\u001b[0m\u001b[0m\n",
      "\u001b[0;31mNameError\u001b[0m: name 'Rfiw2020TestSet' is not defined"
     ]
    }
   ],
   "source": [
    "\n",
    "######################################################################\n",
    "# Testing\n",
    "# ---------\n",
    "# Load data\n",
    "image_datasets = {x: Rfiw2020TestSet(x) for x in ['gallery', 'query']}\n",
    "\n",
    "print('-------test-----------')\n"
   ]
  },
  {
   "cell_type": "code",
   "execution_count": 8,
   "metadata": {},
   "outputs": [
    {
     "ename": "NameError",
     "evalue": "name 'get_gallery_feature_and_id' is not defined",
     "output_type": "error",
     "traceback": [
      "\u001b[0;31m---------------------------------------------------------------------------\u001b[0m",
      "\u001b[0;31mNameError\u001b[0m                                 Traceback (most recent call last)",
      "\u001b[0;32m<ipython-input-8-ca95e369df9b>\u001b[0m in \u001b[0;36m<module>\u001b[0;34m\u001b[0m\n\u001b[1;32m      1\u001b[0m \u001b[0;31m# Load features\u001b[0m\u001b[0;34m\u001b[0m\u001b[0;34m\u001b[0m\u001b[0;34m\u001b[0m\u001b[0m\n\u001b[0;32m----> 2\u001b[0;31m gallery_feature, gallery_label = get_gallery_feature_and_id(\n\u001b[0m\u001b[1;32m      3\u001b[0m     image_datasets['gallery'].imgs)\n\u001b[1;32m      4\u001b[0m \u001b[0mprint\u001b[0m\u001b[0;34m(\u001b[0m\u001b[0;34m\"gallery size:\"\u001b[0m\u001b[0;34m,\u001b[0m \u001b[0mgallery_feature\u001b[0m\u001b[0;34m.\u001b[0m\u001b[0mshape\u001b[0m\u001b[0;34m,\u001b[0m \u001b[0mgallery_label\u001b[0m\u001b[0;34m.\u001b[0m\u001b[0mshape\u001b[0m\u001b[0;34m)\u001b[0m\u001b[0;34m\u001b[0m\u001b[0;34m\u001b[0m\u001b[0m\n\u001b[1;32m      5\u001b[0m query_feature, query_label = get_probe_feature_and_id(\n",
      "\u001b[0;31mNameError\u001b[0m: name 'get_gallery_feature_and_id' is not defined"
     ]
    }
   ],
   "source": [
    "# Load features\n",
    "gallery_feature, gallery_label = get_gallery_feature_and_id(\n",
    "    image_datasets['gallery'].imgs)\n",
    "print(\"gallery size:\", gallery_feature.shape, gallery_label.shape)\n"
   ]
  },
  {
   "cell_type": "code",
   "execution_count": 9,
   "metadata": {},
   "outputs": [
    {
     "ename": "NameError",
     "evalue": "name 'get_probe_feature_and_id' is not defined",
     "output_type": "error",
     "traceback": [
      "\u001b[0;31m---------------------------------------------------------------------------\u001b[0m",
      "\u001b[0;31mNameError\u001b[0m                                 Traceback (most recent call last)",
      "\u001b[0;32m<ipython-input-9-2a33a93dedf9>\u001b[0m in \u001b[0;36m<module>\u001b[0;34m\u001b[0m\n\u001b[0;32m----> 1\u001b[0;31m query_feature, query_label = get_probe_feature_and_id(\n\u001b[0m\u001b[1;32m      2\u001b[0m     image_datasets['query'].imgs) \n\u001b[1;32m      3\u001b[0m \u001b[0;31m# (4540, 512) (4540,)\u001b[0m\u001b[0;34m\u001b[0m\u001b[0;34m\u001b[0m\u001b[0;34m\u001b[0m\u001b[0m\n\u001b[1;32m      4\u001b[0m \u001b[0mprint\u001b[0m\u001b[0;34m(\u001b[0m\u001b[0;34m\"query size:\"\u001b[0m\u001b[0;34m,\u001b[0m \u001b[0mquery_feature\u001b[0m\u001b[0;34m.\u001b[0m\u001b[0mshape\u001b[0m\u001b[0;34m,\u001b[0m \u001b[0mquery_label\u001b[0m\u001b[0;34m.\u001b[0m\u001b[0mshape\u001b[0m\u001b[0;34m)\u001b[0m\u001b[0;34m\u001b[0m\u001b[0;34m\u001b[0m\u001b[0m\n\u001b[1;32m      5\u001b[0m \u001b[0;34m\u001b[0m\u001b[0m\n",
      "\u001b[0;31mNameError\u001b[0m: name 'get_probe_feature_and_id' is not defined"
     ]
    }
   ],
   "source": [
    "query_feature, query_label = get_probe_feature_and_id(\n",
    "    image_datasets['query'].imgs) \n",
    "# (4540, 512) (4540,)\n",
    "print(\"query size:\", query_feature.shape, query_label.shape) \n",
    "\n"
   ]
  },
  {
   "cell_type": "code",
   "execution_count": null,
   "metadata": {},
   "outputs": [],
   "source": [
    "# Save result\n",
    "print('-->Save features to gallery_probe_features.npy')\n",
    "result = {'gallery_f': gallery_feature, 'gallery_label': gallery_label,\n",
    "          'query_f'  : query_feature, 'query_label': query_label}\n",
    "\n",
    "np.save(\"gallery_probe_features.npy\", result)\n",
    "\n",
    "\n",
    "# Run evaluation_gpu.py\n",
    "result = './%s_result.txt' % opt.save_name\n",
    "os.system('python utils.py | tee -a %s' % result)"
   ]
  }
 ],
 "metadata": {
  "kernelspec": {
   "display_name": "Python 3",
   "language": "python",
   "name": "python3"
  },
  "language_info": {
   "codemirror_mode": {
    "name": "ipython",
    "version": 3
   },
   "file_extension": ".py",
   "mimetype": "text/x-python",
   "name": "python",
   "nbconvert_exporter": "python",
   "pygments_lexer": "ipython3",
   "version": "3.6.9"
  }
 },
 "nbformat": 4,
 "nbformat_minor": 4
}
